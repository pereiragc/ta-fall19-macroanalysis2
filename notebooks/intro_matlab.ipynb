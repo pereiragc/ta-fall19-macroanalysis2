{
 "cells": [
  {
   "cell_type": "markdown",
   "metadata": {
    "ein.tags": "worksheet-0",
    "slideshow": {
     "slide_type": "-"
    }
   },
   "source": [
    "# Intro to MATLAB \n",
    "\n",
    "Please warn me of any errors, typos, inconsistencies, etc. Better yet: if you feel energetic, fix it and submit a github pull request. \n",
    "\n",
    "\n",
    "## Almost everything is a Matrix\n",
    "\n",
    "In MATLAB, the most common data type is a matrix of real (or more precisely, floating point) numbers.\n",
    "\n",
    "\n",
    "All the following commands create an object of the type Matrix, with floating point elements:\n"
   ]
  },
  {
   "cell_type": "code",
   "execution_count": 1,
   "metadata": {},
   "outputs": [],
   "source": [
    "u = [1,2.5,3]; % Ending with semicolon suppresses output\n",
    "A = [1 2 3; 4 5 6];\n",
    "b = 2.5;\n",
    "c = pi;"
   ]
  },
  {
   "cell_type": "markdown",
   "metadata": {},
   "source": [
    "You can check that by using the command `size` to inspect the dimension of the output:\n"
   ]
  },
  {
   "cell_type": "code",
   "execution_count": 2,
   "metadata": {},
   "outputs": [
    {
     "name": "stdout",
     "output_type": "stream",
     "text": [
      "\n",
      "ans =\n",
      "\n",
      "     1     3\n",
      "\n",
      "\n",
      "ans =\n",
      "\n",
      "     2     3\n",
      "\n",
      "\n",
      "ans =\n",
      "\n",
      "     1     1\n",
      "\n",
      "\n",
      "ans =\n",
      "\n",
      "     1     1\n",
      "\n"
     ]
    }
   ],
   "source": [
    "size(u)\n",
    "size(A)\n",
    "size(b)\n",
    "size(c)"
   ]
  },
  {
   "cell_type": "markdown",
   "metadata": {},
   "source": [
    "So all of the above are stored as 2x2 matrices. Even scalars like `b` and `c`! \n",
    "\n",
    "\n",
    "In reality, there are other data types. For example: \n",
    "\n",
    "-  **higher dimension arrays**\n",
    "\n",
    "   $n_1 \\times n_2 \\times \\ldots \\times n_k$ objects.\n",
    "-  **structs**\n",
    "\n",
    "   group sub-objects of any type. \n",
    "-  **characters/strings**\n",
    "\n",
    "   store text\n",
    "-  **tables**\n",
    "\n",
    "   as the name suggests, stores objects in such a way that elements in a column are of the same type, columns are the same size, but types can differ across columns. \n",
    "  \n",
    "  \n",
    "## Basic matrix commands\n",
    "\n",
    "-   **zeros**\n",
    "\n",
    "    generates a matrix of zeros of specified dimension. Example: "
   ]
  },
  {
   "cell_type": "code",
   "execution_count": 3,
   "metadata": {},
   "outputs": [
    {
     "name": "stdout",
     "output_type": "stream",
     "text": [
      "\n",
      "ans =\n",
      "\n",
      "     0     0\n",
      "     0     0\n",
      "\n",
      "\n",
      "ans =\n",
      "\n",
      "     0\n",
      "     0\n",
      "     0\n",
      "\n"
     ]
    }
   ],
   "source": [
    "zeros(2,2)\n",
    "zeros(3,1)"
   ]
  },
  {
   "cell_type": "markdown",
   "metadata": {},
   "source": [
    "-   **ones** \n",
    "   \n",
    "    similar to `zeros`, but with ones\n",
    "    \n",
    "-   **diag** \n",
    "\n",
    "    behavior depends on what is inputted: \n",
    "    \n",
    "    *  *row* or *column* vector: creates a diagonal matrix whose main diagonal consists of those elements. \n",
    "    *  *matrix*: extracts the main diagonal from the matrix\n",
    "    \n",
    "    Examples: "
   ]
  },
  {
   "cell_type": "code",
   "execution_count": 4,
   "metadata": {},
   "outputs": [
    {
     "name": "stdout",
     "output_type": "stream",
     "text": [
      "\n",
      "my_vec =\n",
      "\n",
      "     1     2     5\n",
      "\n",
      "\n",
      "ans =\n",
      "\n",
      "     1     0     0\n",
      "     0     2     0\n",
      "     0     0     5\n",
      "\n"
     ]
    }
   ],
   "source": [
    "% Supply a vector\n",
    "my_vec = [1,2,5]\n",
    "diag(my_vec)"
   ]
  },
  {
   "cell_type": "code",
   "execution_count": 5,
   "metadata": {},
   "outputs": [
    {
     "name": "stdout",
     "output_type": "stream",
     "text": [
      "\n",
      "my_mat =\n",
      "\n",
      "     1     2     3\n",
      "     4     5     7\n",
      "\n",
      "\n",
      "ans =\n",
      "\n",
      "     1\n",
      "     5\n",
      "\n"
     ]
    }
   ],
   "source": [
    "% Supply a (possibly non-square) matrix\n",
    "my_mat = [1,2,3;4,5,7] \n",
    "diag(my_mat)"
   ]
  },
  {
   "cell_type": "markdown",
   "metadata": {},
   "source": [
    "## Accessing elements\n",
    "\n",
    "To access element i,j of a matrix `M`, use `M(i,j)`. "
   ]
  },
  {
   "cell_type": "code",
   "execution_count": 6,
   "metadata": {},
   "outputs": [
    {
     "name": "stdout",
     "output_type": "stream",
     "text": [
      "\n",
      "ans =\n",
      "\n",
      "    42\n",
      "\n"
     ]
    }
   ],
   "source": [
    "M = [10 2 5; 42 1 1];\n",
    "\n",
    "M(2,1)"
   ]
  },
  {
   "cell_type": "markdown",
   "metadata": {},
   "source": [
    "Note: for this to work, indices must be \"in bounds\", i.e., if your matrix is $n\\times m$, make sure $i \\in \\{1,\\ldots, n\\}$ and $j \\in \\{1,\\ldots, m\\}$. \n",
    "\n",
    "\n",
    "In the above case, for example `M(5,1)` will give an error because the matrix has 2 rows and we're trying to access row number 5: "
   ]
  },
  {
   "cell_type": "code",
   "execution_count": 7,
   "metadata": {},
   "outputs": [
    {
     "name": "stderr",
     "output_type": "stream",
     "text": [
      "\u001b[0;31mIndex in position 1 exceeds array bounds (must not exceed 2).\n",
      "\n",
      "\u001b[0m"
     ]
    }
   ],
   "source": [
    "M(5,1)"
   ]
  },
  {
   "cell_type": "markdown",
   "metadata": {},
   "source": [
    "## Random numbers\n",
    "\n",
    "In many applications, we need to generate random numbers of a given probability distribution\n",
    "\n",
    "MATLAB has some built-in random number generators.\n",
    "\n",
    "\n",
    "**Uniform[0,1]**\n"
   ]
  },
  {
   "cell_type": "code",
   "execution_count": 8,
   "metadata": {},
   "outputs": [
    {
     "name": "stdout",
     "output_type": "stream",
     "text": [
      "\n",
      "unif_number =\n",
      "\n",
      "    0.8147\n",
      "\n",
      "\n",
      "unif_square_mat =\n",
      "\n",
      "    0.9058    0.6324    0.5469\n",
      "    0.1270    0.0975    0.9575\n",
      "    0.9134    0.2785    0.9649\n",
      "\n",
      "\n",
      "unif_general_mat =\n",
      "\n",
      "    0.1576    0.4854    0.4218    0.9595    0.8491\n",
      "    0.9706    0.8003    0.9157    0.6557    0.9340\n",
      "    0.9572    0.1419    0.7922    0.0357    0.6787\n",
      "\n"
     ]
    }
   ],
   "source": [
    "unif_number = rand          \n",
    "unif_square_mat = rand(3)   \n",
    "unif_general_mat = rand(3,5)"
   ]
  },
  {
   "cell_type": "markdown",
   "metadata": {},
   "source": [
    "----\n",
    "\n",
    "**Normal(0,1)**\n",
    "\n"
   ]
  },
  {
   "cell_type": "code",
   "execution_count": 9,
   "metadata": {},
   "outputs": [
    {
     "name": "stdout",
     "output_type": "stream",
     "text": [
      "\n",
      "stdnorm_number =\n",
      "\n",
      "    1.0347\n",
      "\n",
      "\n",
      "stdnorm_square_mat =\n",
      "\n",
      "    0.7269   -0.7873   -1.0689\n",
      "   -0.3034    0.8884   -0.8095\n",
      "    0.2939   -1.1471   -2.9443\n",
      "\n",
      "\n",
      "stdnorm_general_mat =\n",
      "\n",
      "    1.4384    1.3703   -0.2414   -0.8649    0.6277\n",
      "    0.3252   -1.7115    0.3192   -0.0301    1.0933\n",
      "   -0.7549   -0.1022    0.3129   -0.1649    1.1093\n",
      "\n"
     ]
    }
   ],
   "source": [
    "stdnorm_number = randn          \n",
    "stdnorm_square_mat = randn(3)   \n",
    "stdnorm_general_mat = randn(3,5)"
   ]
  },
  {
   "cell_type": "markdown",
   "metadata": {},
   "source": [
    "-----\n",
    "\n",
    "Importantly, every subsequent draw of a random number, within a vector or otherwise, is *independent* of previous draws. \n",
    "\n",
    "\n",
    "\n",
    "### Seeding and reproducibility\n",
    "\n",
    "\n",
    "Note that if I type ~rand~ here and you do the same on your computer, the output will be two different numbers. \n",
    "\n",
    "Problem: if I haven't seen you actually generate the number, how do I know it's random?\n",
    "\n",
    "If my results depend on simulation, I might have just made up random-looking numbers that have some desired output. To avoid raising that type of suspicion, *always seed code that uses simulations*.\n",
    "\n",
    "Command `rng` sets a random number generator *seed*: "
   ]
  },
  {
   "cell_type": "code",
   "execution_count": 10,
   "metadata": {},
   "outputs": [
    {
     "name": "stdout",
     "output_type": "stream",
     "text": [
      "\n",
      "my_random_number =\n",
      "\n",
      "    0.6965\n",
      "\n"
     ]
    }
   ],
   "source": [
    "rng(123)               \n",
    "                       \n",
    "my_random_number = rand"
   ]
  },
  {
   "cell_type": "markdown",
   "metadata": {},
   "source": [
    "If you use the same seed (123, in this case), the random draw above should yield 0.6965 on anyone's computer. "
   ]
  },
  {
   "cell_type": "markdown",
   "metadata": {},
   "source": [
    "### Exercises"
   ]
  },
  {
   "cell_type": "markdown",
   "metadata": {},
   "source": [
    "\n",
    "1.  Create a 15x1 vector where each component is drawn independent from a Uniform[0, 1] distribution\n",
    "2.  Create a 2x2 matrix where all elements but (2,1) are independent standard normal, and entry (2,1) is uniform[0,1].\n",
    "3.  Create a 2x2 matrix where all elements are drawn independent U[-1, 2]\n",
    "4.  Create a 2x2 matrix where all elements are drawn independent N(1, 0.16)\n",
    "5.  Create a vector, with arbitrary length, where each entry is one of\n",
    "   $\\{1,2,3,4\\}$ according to the probability specification (0.01, 0.09,\n",
    "   0.8, 0.1).\n",
    "6.  How do you tell if the draw in (5) was reasonable?\n",
    "\n"
   ]
  },
  {
   "cell_type": "markdown",
   "metadata": {},
   "source": [
    "See the end of this notebook for suggested answers."
   ]
  },
  {
   "cell_type": "markdown",
   "metadata": {},
   "source": [
    "## Plotting"
   ]
  },
  {
   "cell_type": "markdown",
   "metadata": {},
   "source": [
    "The main plotting command for 2d plots (which is the one you'll use the most in this course) is `plot`. \n",
    "\n",
    "As an example, let's plot the square function for integers from 1 to 100 in several different ways. \n",
    "\n",
    "\n",
    "The plain vanilla plot command yields the following. "
   ]
  },
  {
   "cell_type": "code",
   "execution_count": 11,
   "metadata": {},
   "outputs": [
    {
     "data": {
      "image/png": "[encoded data removed]",
      "text/plain": [
       "<IPython.core.display.Image object>"
      ]
     },
     "metadata": {},
     "output_type": "display_data"
    }
   ],
   "source": [
    "x = 1:100;\n",
    "y = x.^2;\n",
    "\n",
    "figure; % Start a new plotting instance (not strictly necessary if this is the\n",
    "        % first plot)\n",
    "plot(x,y);\n"
   ]
  },
  {
   "cell_type": "markdown",
   "metadata": {},
   "source": [
    "Note how matlab created a line through the points. That's the default behavior, but you can change that with the third argument of the `plot` function. For example: "
   ]
  },
  {
   "cell_type": "code",
   "execution_count": 12,
   "metadata": {},
   "outputs": [
    {
     "data": {
      "image/png": "[encoded data removed]",
      "text/plain": [
       "<IPython.core.display.Image object>"
      ]
     },
     "metadata": {},
     "output_type": "display_data"
    }
   ],
   "source": [
    "plot(x,y, 'o');"
   ]
  },
  {
   "cell_type": "markdown",
   "metadata": {},
   "source": [
    "That literally plots o's instead of a line. You can use `'--'` for a dashed line, `'-.'` for a dashed-dotted line, '+' for pluses, among other options\n",
    "    \n",
    "To set a color, append the starting letter of a sufficiently normal color (exception: to plot in black, use 'k'). For example, `'--r'` will set a red dashed line. "
   ]
  },
  {
   "cell_type": "code",
   "execution_count": 13,
   "metadata": {},
   "outputs": [
    {
     "data": {
      "image/png": "[encoded data removed]",
      "text/plain": [
       "<IPython.core.display.Image object>"
      ]
     },
     "metadata": {},
     "output_type": "display_data"
    }
   ],
   "source": [
    "plot(x,y, '--r');"
   ]
  },
  {
   "cell_type": "markdown",
   "metadata": {},
   "source": [
    "### Comparing curves\n",
    "\n",
    "One important use case of plotting commands is to compare the shapes and values of curves. \n",
    "\n",
    "There are two major ways of proceeding. \n",
    "\n",
    "1. Two curves in the same plot window\n",
    "2. Subplots\n",
    "\n",
    "\n",
    "Option 1 is achieved the `hold on` command. Simply type `hold on;` every subsequent plot is going to appear in the same plot window: \n"
   ]
  },
  {
   "cell_type": "code",
   "execution_count": 14,
   "metadata": {},
   "outputs": [
    {
     "data": {
      "image/png": "[encoded data removed]",
      "text/plain": [
       "<IPython.core.display.Image object>"
      ]
     },
     "metadata": {},
     "output_type": "display_data"
    }
   ],
   "source": [
    "x = linspace(0, 1, 100); % Creates equally spaced range between 0 and 1 with 100 points\n",
    "y = x.^2;\n",
    "z = 0.5 + x/2;\n",
    "\n",
    "figure;                                     \n",
    "hold on;                                    \n",
    "plot(x,y);                                  \n",
    "plot(x,z);                                  \n",
    "                                            \n",
    "legend('Square function', 'Affine function')"
   ]
  },
  {
   "cell_type": "markdown",
   "metadata": {},
   "source": [
    "Option 2 is achieved with the `subplot` command. One example is below (explanation comes after): \n",
    "\n"
   ]
  },
  {
   "cell_type": "code",
   "execution_count": 15,
   "metadata": {},
   "outputs": [
    {
     "data": {
      "image/png": "[encoded data removed]",
      "text/plain": [
       "<IPython.core.display.Image object>"
      ]
     },
     "metadata": {},
     "output_type": "display_data"
    }
   ],
   "source": [
    "figure;\n",
    "subplot(2,2,1)\n",
    "plot(x, x) % Plots the y=x function\n",
    "title('1st window')\n",
    "\n",
    "subplot(2,2,2)\n",
    "plot(x, y) % Remember: y = x.^2\n",
    "title('2nd window')\n",
    "\n",
    "subplot(2,2,3)\n",
    "plot(x, z) % Remember: z = 0.5 + x/2\n",
    "title('3rd window')\n",
    "\n",
    "subplot(2,2,4)\n",
    "plot(x, sin(10*x))\n",
    "title('4th window')\n"
   ]
  },
  {
   "cell_type": "markdown",
   "metadata": {},
   "source": [
    "The first two arguments to `subplot` define the grid of subplots. In this case, we use `2,2`, meaning it generates a 2 by 2 grid of subplots. \n",
    "\n",
    "The third argument selects which subplot window to plot on. So `subplot(2,2,1)` \n",
    "selects the first (top left) window; `subplot(2,2,2)` selects the second window (top right). \n",
    "\n",
    "The way `subplot` orders the windows is *by row*. "
   ]
  },
  {
   "cell_type": "markdown",
   "metadata": {},
   "source": [
    "## Two ways of plotting the density of a $\\chi^2$ distribution\n",
    "\n",
    "There are roughly two ways of plotting the density of a random variable\n",
    "\n",
    "1. **If you can *sample* from this variable**: take a very large sample and create a histogram. The `histogram` command achieves this.\n",
    "2. **If you know a closed-form expression for the density function**: choose a reasonable support, form a grid of points covering the support and use the `plot` command.\n",
    "\n",
    "In this section, we'll apply it to a $\\chi^2(q)$ distribution. Let's take $q=4$ for example.\n",
    "\n",
    "\n",
    "### Histogram approach\n",
    "Remember that a $\\chi^2(q)$ is has a distribution identical to the sum of $q$ independent standard normal random variables.\n",
    "\n",
    "In our case, to generate a sample of $\\chi^2(4)$, we need to draw 4 independent normal random variables $N$ times. \n",
    "\n",
    "We can use the `randn` command to find a 4xN matrix with independent normal entries:"
   ]
  },
  {
   "cell_type": "code",
   "execution_count": 16,
   "metadata": {},
   "outputs": [
    {
     "name": "stdout",
     "output_type": "stream",
     "text": [
      "\n",
      "ans =\n",
      "\n",
      "  Columns 1 through 7\n",
      "\n",
      "    0.7643    0.6680   -0.0329   -0.1337   -0.9109    0.3199    0.6204\n",
      "   -0.6050   -0.3235   -0.2951   -1.6757   -0.4629    1.0635   -0.6453\n",
      "   -1.0350    1.3343   -0.5548   -0.3487    0.1227    0.9011   -0.3651\n",
      "    0.2014    0.6214    0.5644    0.8456    0.0900    0.2872   -0.5834\n",
      "\n",
      "  Columns 8 through 10\n",
      "\n",
      "   -1.3698   -0.1307   -0.2998\n",
      "    0.5432   -0.0114    1.4971\n",
      "   -1.7078   -0.1020    1.3880\n",
      "   -0.0646   -0.9234    0.0054\n",
      "\n"
     ]
    }
   ],
   "source": [
    "rng(123); % for reproducibility\n",
    "\n",
    "q = 4;\n",
    "N = 10000; % sample size\n",
    "sampmat = randn(q, N);\n",
    "\n",
    "% Show first 10 columns\n",
    "sampmat(:,1:10)\n"
   ]
  },
  {
   "cell_type": "markdown",
   "metadata": {},
   "source": [
    "Now we can square all elements, and do row-wise sum using the function `sum`:"
   ]
  },
  {
   "cell_type": "code",
   "execution_count": 17,
   "metadata": {},
   "outputs": [
    {
     "name": "stdout",
     "output_type": "stream",
     "text": [
      "\n",
      "ans =\n",
      "\n",
      "  Columns 1 through 7\n",
      "\n",
      "    2.0620    2.7175    0.7145    3.6625    1.0673    2.1279    1.2749\n",
      "\n",
      "  Columns 8 through 10\n",
      "\n",
      "    5.0921    0.8802    4.2579\n",
      "\n"
     ]
    }
   ],
   "source": [
    "sampmat_sq = sampmat .^ 2; % compute element-wise square\n",
    "samp = sum(sampmat_sq, 1); \n",
    "samp(:, 1:10) % show first ten elements"
   ]
  },
  {
   "cell_type": "markdown",
   "metadata": {},
   "source": [
    "\n",
    "\n",
    "\n",
    "That's it! In the variable `samp`, we have an independent sample of $\\chi^2(4)$! Let's do the histogram:\n"
   ]
  },
  {
   "cell_type": "code",
   "execution_count": 18,
   "metadata": {},
   "outputs": [
    {
     "data": {
      "image/png": "[encoded data removed]",
      "text/plain": [
       "<IPython.core.display.Image object>"
      ]
     },
     "metadata": {},
     "output_type": "display_data"
    }
   ],
   "source": [
    "figure;\n",
    "histogram(samp, 'Normalization', 'pdf')"
   ]
  },
  {
   "cell_type": "markdown",
   "metadata": {},
   "source": [
    "Two comments on the above: \n",
    "1. We have to set option `'Normalization'` to `'pdf'` to have a result\n",
    "   that is comparable to the pdf. Without setting this, `histogram`\n",
    "   defaults to showing the *count* of sample points in each bin. \n",
    "2. The default style is a bar plot but you can tweak it. Check the histogram documentation in the MATLAB page. [Documentation](https://www.mathworks.com/help/matlab/ref/matlab.graphics.chart.primitive.histogram.html)\n",
    "\n"
   ]
  },
  {
   "cell_type": "markdown",
   "metadata": {},
   "source": [
    "### Closed form approach"
   ]
  },
  {
   "cell_type": "markdown",
   "metadata": {},
   "source": [
    "From Wikipedia, the pdf of a $\\chi^2(4)$ random variable is\n",
    "    $$\n",
    "    f(x, q) = \\frac{1}{2^{q/2} \\Gamma(q/2) } x^{q/2 - 1} e^{-x/2} \n",
    "    $$"
   ]
  },
  {
   "cell_type": "markdown",
   "metadata": {},
   "source": [
    "I arbitrarily set the domain to [0,30] and plot 100 points: \n"
   ]
  },
  {
   "cell_type": "code",
   "execution_count": 19,
   "metadata": {},
   "outputs": [
    {
     "data": {
      "image/png": "[encoded data removed]",
      "text/plain": [
       "<IPython.core.display.Image object>"
      ]
     },
     "metadata": {},
     "output_type": "display_data"
    }
   ],
   "source": [
    "xmax = 30;\n",
    "npoints = 100;\n",
    "q = 4;\n",
    "\n",
    "x = linspace(0, xmax, npoints);\n",
    "\n",
    "integr_const = 2^(q/2) * gamma(q/2);\n",
    "y = x.^(q/2 - 1) .* exp(-x/2)  /  integr_const;\n",
    "\n",
    "figure;\n",
    "plot(x, y)\n"
   ]
  },
  {
   "cell_type": "markdown",
   "metadata": {},
   "source": [
    "### Comparing the two\n",
    "\n",
    "Let's apply the knowledge from the previous sections to compare the two plots. \n",
    "\n"
   ]
  },
  {
   "cell_type": "code",
   "execution_count": 20,
   "metadata": {},
   "outputs": [
    {
     "data": {
      "image/png": "[encoded data removed]",
      "text/plain": [
       "<IPython.core.display.Image object>"
      ]
     },
     "metadata": {},
     "output_type": "display_data"
    }
   ],
   "source": [
    "\n",
    "figure;\n",
    "hold on;\n",
    "histogram(samp, 'Normalization', 'pdf') \n",
    "plot(x, y, 'LineWidth', 3)\n"
   ]
  },
  {
   "cell_type": "markdown",
   "metadata": {},
   "source": [
    "# Answers to exercises"
   ]
  },
  {
   "cell_type": "markdown",
   "metadata": {},
   "source": [
    "1. Create a 15x1 vector where each component is drawn independent from a Uniform[0, 1] distribution\n",
    "\n",
    "   **A:** Use rand command. ~randn(15, 1)~ should do the trick.\n",
    "\n",
    "\n",
    "2. Create a 2x2 matrix where all elements but (2,1) are independent standard normal, and entry (2,1) is uniform[0,1].\n",
    "\n",
    "   **A:** Create a 2x2 standard normal matrix, substitute element (2,1):"
   ]
  },
  {
   "cell_type": "code",
   "execution_count": 21,
   "metadata": {},
   "outputs": [
    {
     "name": "stdout",
     "output_type": "stream",
     "text": [
      "\n",
      "m2 =\n",
      "\n",
      "    0.9517    0.8655\n",
      "    0.3593   -0.2708\n",
      "\n"
     ]
    }
   ],
   "source": [
    "rng(44)\n",
    "m2 = randn(2,2);\n",
    "m2(2,1) = rand"
   ]
  },
  {
   "cell_type": "markdown",
   "metadata": {},
   "source": [
    "3. Create a 2x2 matrix where all elements are drawn independent U[-1, 2]\n",
    "\n",
    "   **A.** Expand the uniform to [0,3] and translate by -1: "
   ]
  },
  {
   "cell_type": "code",
   "execution_count": 22,
   "metadata": {},
   "outputs": [
    {
     "name": "stdout",
     "output_type": "stream",
     "text": [
      "\n",
      "m3 =\n",
      "\n",
      "    1.5045    1.2339\n",
      "   -0.6856    0.0815\n",
      "\n"
     ]
    }
   ],
   "source": [
    "rng(44) % For reproducibility\n",
    "\n",
    "m3_init = rand(2,2);\n",
    "m3 = m3_init * 3 - 1"
   ]
  },
  {
   "cell_type": "markdown",
   "metadata": {},
   "source": [
    "4.  Create a 2x2 matrix where all elements are drawn independent N(1, 0.16)\n",
    "\n",
    "    **A.** Do a similar shift/expand trick. Remember that if $X \\sim N(0,1)$, then\n",
    "    \n",
    "    $$\\sigma X + \\mu \\sim N(\\mu, \\sigma^2)$$\n",
    "    \n",
    "    In MATLAB: "
   ]
  },
  {
   "cell_type": "code",
   "execution_count": 23,
   "metadata": {},
   "outputs": [
    {
     "name": "stdout",
     "output_type": "stream",
     "text": [
      "\n",
      "m4 =\n",
      "\n",
      "    1.3807    1.3462\n",
      "    0.8389    0.8917\n",
      "\n"
     ]
    }
   ],
   "source": [
    "rng(44);  % For reproducibility\n",
    "\n",
    "sig = sqrt(0.16);\n",
    "mu = 1;\n",
    "\n",
    "m4_init = randn(2,2);\n",
    "m4 = mu + sig *  m4_init\n"
   ]
  },
  {
   "cell_type": "markdown",
   "metadata": {},
   "source": [
    "5.  Create a vector, with arbitrary length, where each entry is one of      $\\{1,2,3,4\\}$ according to the probability mass specification (0.01, 0.09,\n",
    "     0.8, 0.1)\n",
    "     \n",
    "     **A.** Let $\\mathbf p = (0.01, 0.09, 0.8, 0.1)$. Take a uniform random draw from\n",
    "     [0,1], say $U$. Then consider the following rule: \n",
    "     \n",
    "     $$\n",
    "     F(U) = \\begin{cases} \n",
    "         1 & \\text{if } U \\leq 0.01 \\\\\n",
    "         2 & \\text{if } 0.01 < U \\leq 0.01 + 0.09 \\\\\n",
    "         3 & \\text{if } 0.01 + 0.09 < U \\leq 0.01 + 0.09 + 0.8 \\\\\n",
    "         4 & \\text{if } 0.01 + 0.09 + 0.8 < U \\leq 0.01 + 0.09 + 0.8 + 0.1 \n",
    "     \\end{cases}\n",
    "     $$\n",
    "     \n",
    "     It's not hard to verify that $\\Pr \\{ F(U) = 1 \\} = 0.01$, $\\Pr \\{ F(U) = 2 \\} = 0.01$, $\\Pr \\{ F(U) = 3 \\} = 0.8$ and $\\Pr \\{ F(U) = 4 \\} = 0.1$. Now, how do we implement this? \n",
    "      \n",
    "     Note that $F$ is basically comparing $U$ above against the *cumulative sum* of $p$. Matlab has a command for cumulative sums: \n"
   ]
  },
  {
   "cell_type": "code",
   "execution_count": 24,
   "metadata": {},
   "outputs": [
    {
     "name": "stdout",
     "output_type": "stream",
     "text": [
      "\n",
      "cum_p =\n",
      "\n",
      "    0.0100    0.1000    0.9000    1.0000\n",
      "\n"
     ]
    }
   ],
   "source": [
    "p = [0.01, 0.09, 0.8, 0.1];\n",
    "cum_p = cumsum(p)"
   ]
  },
  {
   "cell_type": "markdown",
   "metadata": {},
   "source": [
    "Let's define something slightly more general than $F$. We define a function that, for any u, finds the *first* entry of the cumulative sum of $\\mathbf p$ smaller than U. This is done below, for general scalar u and vector p whose cumulative sum has been computed in advance.\n",
    "\n",
    "I do this in the function `cumsum_findsmaller` below: "
   ]
  },
  {
   "cell_type": "code",
   "execution_count": 25,
   "metadata": {},
   "outputs": [
    {
     "name": "stderr",
     "output_type": "stream",
     "text": [
      "\u001b[0;31mError: Function definition not supported in this context. Create functions in code file.\n",
      "\n",
      "\u001b[0m"
     ]
    }
   ],
   "source": [
    "% Tangled by intro_matlab_solutions.org\n",
    "\n",
    "function jj = cumsum_findsmaller(u, cum_p)\n",
    "    jj = 0;\n",
    "    is_lower = false;\n",
    "    while ~is_lower    % continue until is_lower becomes true\n",
    "        jj = jj + 1;\n",
    "        is_lower = (u <= cum_p(jj)); % logical variable: either 0 or 1\n",
    "    end\n",
    "end"
   ]
  },
  {
   "cell_type": "markdown",
   "metadata": {},
   "source": [
    "  - Convince yourself `cumsum_findsmaller` does exactly what $F$ above prescribes\n",
    "  - For the above to work, we need the function to be in a separate file. I add it to `extracode/cumsum_findsmaller.m`, and add the directory to path below. \n"
   ]
  },
  {
   "cell_type": "code",
   "execution_count": 26,
   "metadata": {},
   "outputs": [
    {
     "name": "stdout",
     "output_type": "stream",
     "text": [
      "\n",
      "ans =\n",
      "\n",
      "     1\n",
      "\n",
      "\n",
      "ans =\n",
      "\n",
      "     2\n",
      "\n",
      "\n",
      "ans =\n",
      "\n",
      "     3\n",
      "\n"
     ]
    }
   ],
   "source": [
    "addpath('extracode') % make sure `cumsum_findsmaller.m` is reachable\n",
    "\n",
    "cumsum_findsmaller(0.005, cum_p) % should  be 1\n",
    "\n",
    "cumsum_findsmaller(0.07, cum_p) %  should be 2\n",
    "\n",
    "cumsum_findsmaller(0.5, cum_p)  % should be 3\n"
   ]
  },
  {
   "cell_type": "markdown",
   "metadata": {},
   "source": [
    "Seems about right. Now let's generate a sample, and output the first ten elements: "
   ]
  },
  {
   "cell_type": "code",
   "execution_count": 27,
   "metadata": {},
   "outputs": [
    {
     "name": "stdout",
     "output_type": "stream",
     "text": [
      "Elapsed time is 0.001677 seconds.\n",
      "\n",
      "ans =\n",
      "\n",
      "     3\n",
      "     3\n",
      "     3\n",
      "     3\n",
      "     3\n",
      "     3\n",
      "     3\n",
      "     3\n",
      "     3\n",
      "     3\n",
      "\n"
     ]
    }
   ],
   "source": [
    "rng(44)\n",
    "\n",
    "sample_size = 1000;    % arbitrary sample size\n",
    "\n",
    "tic;\n",
    "store_sample = zeros(sample_size, 1); %  pre-allocate sample vector\n",
    "\n",
    "for ii=1:sample_size\n",
    "    U=rand;\n",
    "    store_sample(ii)=cumsum_findsmaller(U, cum_p);\n",
    "end\n",
    "toc;\n",
    "\n",
    "store_sample(1:10)"
   ]
  },
  {
   "cell_type": "markdown",
   "metadata": {},
   "source": [
    "It's not at all surprising that all of them are 3, since 3 has an 80% chance of being drawn.\n",
    "\n",
    "\n",
    "In terms of style, notice that the above solution has two loops: \n",
    "\n",
    "+ One inside the function `cumsum_findsmaller`        \n",
    "+ The loop ranging from `ii=1:samplesize`.\n",
    "\n",
    "That goes against the general advice that we should avoid this type of construction. How then would you proceed with built-in matrix operations?\n",
    "\n",
    "One (obscure and non-intuitive) way of doing it without any loops is shown below: "
   ]
  },
  {
   "cell_type": "code",
   "execution_count": 28,
   "metadata": {},
   "outputs": [
    {
     "name": "stdout",
     "output_type": "stream",
     "text": [
      "Elapsed time is 0.001409 seconds.\n",
      "\n",
      "ans =\n",
      "\n",
      "     3     3     3     3     3     3     3     3     3     3\n",
      "\n"
     ]
    }
   ],
   "source": [
    "rng(44)\n",
    "\n",
    "tic; \n",
    "\n",
    "unifsamp = rand(1, sample_size);\n",
    "rep_matrix = repmat(unifsamp, 4, 1);\n",
    "store_sample_v = sum(cum_p' < rep_matrix)+1;\n",
    "\n",
    "toc;\n",
    "\n",
    "store_sample_v(1:10)"
   ]
  },
  {
   "cell_type": "markdown",
   "metadata": {},
   "source": [
    "6.  How do you tell if the draw in (5) was reasonable?\n",
    "\n",
    "    **A.** We can check, for example, the frequency that number $3$ shows up. Because it has probability 80%, we'd expect the relative frequency to be around 80%. This is checked below:"
   ]
  },
  {
   "cell_type": "code",
   "execution_count": 29,
   "metadata": {},
   "outputs": [
    {
     "name": "stdout",
     "output_type": "stream",
     "text": [
      "\n",
      "ans =\n",
      "\n",
      "    0.8060\n",
      "\n",
      "\n",
      "ans =\n",
      "\n",
      "    0.8060\n",
      "\n"
     ]
    }
   ],
   "source": [
    "sum(store_sample == 3) / length(store_sample)\n",
    "sum(store_sample_v == 3) / length(store_sample_v)"
   ]
  },
  {
   "cell_type": "markdown",
   "metadata": {},
   "source": [
    "Which is around 80% of the time, indicating that we're sampling from the right distribution."
   ]
  }
 ],
 "metadata": {
  "kernelspec": {
   "display_name": "Matlab",
   "language": "matlab",
   "name": "matlab"
  },
  "language_info": {
   "codemirror_mode": "octave",
   "file_extension": ".m",
   "help_links": [
    {
     "text": "MetaKernel Magics",
     "url": "https://metakernel.readthedocs.io/en/latest/source/README.html"
    }
   ],
   "mimetype": "text/x-octave",
   "name": "matlab",
   "version": "0.16.7"
  },
  "name": "intro_matlab.ipynb"
 },
 "nbformat": 4,
 "nbformat_minor": 4
}
